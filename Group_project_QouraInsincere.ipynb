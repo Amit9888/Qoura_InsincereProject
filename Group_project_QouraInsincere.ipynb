{
 "cells": [
  {
   "cell_type": "code",
   "execution_count": 55,
   "id": "6c8edd58",
   "metadata": {},
   "outputs": [],
   "source": [
    "#Performing the standard imports  required\n",
    "\n",
    "import nltk\n",
    "from nltk.tokenize import RegexpTokenizer\n",
    "from nltk.stem import WordNetLemmatizer\n",
    "import pandas as pd\n",
    "import numpy as np\n",
    "import spacy\n",
    "import re\n",
    "from nltk.tokenize import word_tokenize,sent_tokenize\n",
    "import matplotlib.pyplot as plt\n",
    "import seaborn as sns\n",
    "from nltk.corpus import stopwords"
   ]
  },
  {
   "cell_type": "code",
   "execution_count": 47,
   "id": "d3c268af",
   "metadata": {},
   "outputs": [],
   "source": []
  },
  {
   "cell_type": "code",
   "execution_count": 42,
   "id": "f691d003",
   "metadata": {},
   "outputs": [
    {
     "name": "stderr",
     "output_type": "stream",
     "text": [
      "[nltk_data] Downloading package stopwords to\n",
      "[nltk_data]     C:\\Users\\amit\\AppData\\Roaming\\nltk_data...\n",
      "[nltk_data]   Package stopwords is already up-to-date!\n"
     ]
    },
    {
     "data": {
      "text/plain": [
       "True"
      ]
     },
     "execution_count": 42,
     "metadata": {},
     "output_type": "execute_result"
    }
   ],
   "source": [
    "nltk.download('stopwords')"
   ]
  },
  {
   "cell_type": "code",
   "execution_count": null,
   "id": "d16bb906",
   "metadata": {},
   "outputs": [],
   "source": []
  },
  {
   "cell_type": "code",
   "execution_count": 2,
   "id": "b2a1861b",
   "metadata": {},
   "outputs": [],
   "source": [
    "contractions = { \n",
    "\"ain't\": \"am not / are not / is not / has not / have not\",\n",
    "\"aren't\": \"are not / am not\",\n",
    "\"can't\": \"cannot\",\n",
    "\"can't've\": \"cannot have\",\n",
    "\"'cause\": \"because\",\n",
    "\"could've\": \"could have\",\n",
    "\"couldn't\": \"could not\",\n",
    "\"couldn't've\": \"could not have\",\n",
    "\"didn't\": \"did not\",\n",
    "\"doesn't\": \"does not\",\n",
    "\"don't\": \"do not\",\n",
    "\"hadn't\": \"had not\",\n",
    "\"hadn't've\": \"had not have\",\n",
    "\"hasn't\": \"has not\",\n",
    "\"haven't\": \"have not\",\n",
    "\"he'd\": \"he had / he would\",\n",
    "\"he'd've\": \"he would have\",\n",
    "\"he'll\": \"he shall / he will\",\n",
    "\"he'll've\": \"he shall have / he will have\",\n",
    "\"he's\": \"he has / he is\",\n",
    "\"how'd\": \"how did\",\n",
    "\"how'd'y\": \"how do you\",\n",
    "\"how'll\": \"how will\",\n",
    "\"how's\": \"how has / how is / how does\",\n",
    "\"i'd\": \"i had / I would\",\n",
    "\"i'd've\": \"i would have\",\n",
    "\"i'll\": \"i shall / I will\",\n",
    "\"i'll've\": \"i shall have / I will have\",\n",
    "\"i'm\": \"i am\",\n",
    "\"i've\": \"i have\",\n",
    "\"isn't\": \"is not\",\n",
    "\"it'd\": \"it had / it would\",\n",
    "\"it'd've\": \"it would have\",\n",
    "\"it'll\": \"it shall / it will\",\n",
    "\"it'll've\": \"it shall have / it will have\",\n",
    "\"it's\": \"it has / it is\",\n",
    "\"let's\": \"let us\",\n",
    "\"ma'am\": \"madam\",\n",
    "\"mayn't\": \"may not\",\n",
    "\"might've\": \"might have\",\n",
    "\"mightn't\": \"might not\",\n",
    "\"mightn't've\": \"might not have\",\n",
    "\"must've\": \"must have\",\n",
    "\"mustn't\": \"must not\",\n",
    "\"mustn't've\": \"must not have\",\n",
    "\"needn't\": \"need not\",\n",
    "\"needn't've\": \"need not have\",\n",
    "\"o'clock\": \"of the clock\",\n",
    "\"oughtn't\": \"ought not\",\n",
    "\"oughtn't've\": \"ought not have\",\n",
    "\"shan't\": \"shall not\",\n",
    "\"sha'n't\": \"shall not\",\n",
    "\"shan't've\": \"shall not have\",\n",
    "\"she'd\": \"she had / she would\",\n",
    "\"she'd've\": \"she would have\",\n",
    "\"she'll\": \"she shall / she will\",\n",
    "\"she'll've\": \"she shall have / she will have\",\n",
    "\"she's\": \"she has / she is\",\n",
    "\"should've\": \"should have\",\n",
    "\"shouldn't\": \"should not\",\n",
    "\"shouldn't've\": \"should not have\",\n",
    "\"so've\": \"so have\",\n",
    "\"so's\": \"so as / so is\",\n",
    "\"that'd\": \"that would / that had\",\n",
    "\"that'd've\": \"that would have\",\n",
    "\"that's\": \"that has / that is\",\n",
    "\"there'd\": \"there had / there would\",\n",
    "\"there'd've\": \"there would have\",\n",
    "\"there's\": \"there has / there is\",\n",
    "\"they'd\": \"they had / they would\",\n",
    "\"they'd've\": \"they would have\",\n",
    "\"they'll\": \"they shall / they will\",\n",
    "\"they'll've\": \"they shall have / they will have\",\n",
    "\"they're\": \"they are\",\n",
    "\"they've\": \"they have\",\n",
    "\"to've\": \"to have\",\n",
    "\"wasn't\": \"was not\",\n",
    "\"we'd\": \"we had / we would\",\n",
    "\"we'd've\": \"we would have\",\n",
    "\"we'll\": \"we will\",\n",
    "\"we'll've\": \"we will have\",\n",
    "\"we're\": \"we are\",\n",
    "\"we've\": \"we have\",\n",
    "\"weren't\": \"were not\",\n",
    "\"what'll\": \"what shall / what will\",\n",
    "\"what'll've\": \"what shall have / what will have\",\n",
    "\"what're\": \"what are\",\n",
    "\"what's\": \"what has / what is\",\n",
    "\"what've\": \"what have\",\n",
    "\"when's\": \"when has / when is\",\n",
    "\"when've\": \"when have\",\n",
    "\"where'd\": \"where did\",\n",
    "\"where's\": \"where has / where is\",\n",
    "\"where've\": \"where have\",\n",
    "\"who'll\": \"who shall / who will\",\n",
    "\"who'll've\": \"who shall have / who will have\",\n",
    "\"who's\": \"who has / who is\",\n",
    "\"who've\": \"who have\",\n",
    "\"why's\": \"why has / why is\",\n",
    "\"why've\": \"why have\",\n",
    "\"will've\": \"will have\",\n",
    "\"won't\": \"will not\",\n",
    "\"won't've\": \"will not have\",\n",
    "\"would've\": \"would have\",\n",
    "\"wouldn't\": \"would not\",\n",
    "\"wouldn't've\": \"would not have\",\n",
    "\"y'all\": \"you all\",\n",
    "\"y'all'd\": \"you all would\",\n",
    "\"y'all'd've\": \"you all would have\",\n",
    "\"y'all're\": \"you all are\",\n",
    "\"y'all've\": \"you all have\",\n",
    "\"you'd\": \"you had / you would\",\n",
    "\"you'd've\": \"you would have\",\n",
    "\"you'll\": \"you shall / you will\",\n",
    "\"you'll've\": \"you shall have / you will have\",\n",
    "\"you're\": \"you are\",\n",
    "\"you've\": \"you have\"\n",
    "}"
   ]
  },
  {
   "cell_type": "code",
   "execution_count": 3,
   "id": "f0803b3a",
   "metadata": {},
   "outputs": [],
   "source": [
    "train_df=pd.read_csv(\"train.csv\")"
   ]
  },
  {
   "cell_type": "code",
   "execution_count": 4,
   "id": "d29536cc",
   "metadata": {},
   "outputs": [
    {
     "data": {
      "text/html": [
       "<div>\n",
       "<style scoped>\n",
       "    .dataframe tbody tr th:only-of-type {\n",
       "        vertical-align: middle;\n",
       "    }\n",
       "\n",
       "    .dataframe tbody tr th {\n",
       "        vertical-align: top;\n",
       "    }\n",
       "\n",
       "    .dataframe thead th {\n",
       "        text-align: right;\n",
       "    }\n",
       "</style>\n",
       "<table border=\"1\" class=\"dataframe\">\n",
       "  <thead>\n",
       "    <tr style=\"text-align: right;\">\n",
       "      <th></th>\n",
       "      <th>qid</th>\n",
       "      <th>question_text</th>\n",
       "      <th>target</th>\n",
       "    </tr>\n",
       "  </thead>\n",
       "  <tbody>\n",
       "    <tr>\n",
       "      <th>0</th>\n",
       "      <td>00002165364db923c7e6</td>\n",
       "      <td>How did Quebec nationalists see their province...</td>\n",
       "      <td>0</td>\n",
       "    </tr>\n",
       "    <tr>\n",
       "      <th>1</th>\n",
       "      <td>000032939017120e6e44</td>\n",
       "      <td>Do you have an adopted dog, how would you enco...</td>\n",
       "      <td>0</td>\n",
       "    </tr>\n",
       "    <tr>\n",
       "      <th>2</th>\n",
       "      <td>0000412ca6e4628ce2cf</td>\n",
       "      <td>Why does velocity affect time? Does velocity a...</td>\n",
       "      <td>0</td>\n",
       "    </tr>\n",
       "    <tr>\n",
       "      <th>3</th>\n",
       "      <td>000042bf85aa498cd78e</td>\n",
       "      <td>How did Otto von Guericke used the Magdeburg h...</td>\n",
       "      <td>0</td>\n",
       "    </tr>\n",
       "    <tr>\n",
       "      <th>4</th>\n",
       "      <td>0000455dfa3e01eae3af</td>\n",
       "      <td>Can I convert montra helicon D to a mountain b...</td>\n",
       "      <td>0</td>\n",
       "    </tr>\n",
       "  </tbody>\n",
       "</table>\n",
       "</div>"
      ],
      "text/plain": [
       "                    qid                                      question_text  \\\n",
       "0  00002165364db923c7e6  How did Quebec nationalists see their province...   \n",
       "1  000032939017120e6e44  Do you have an adopted dog, how would you enco...   \n",
       "2  0000412ca6e4628ce2cf  Why does velocity affect time? Does velocity a...   \n",
       "3  000042bf85aa498cd78e  How did Otto von Guericke used the Magdeburg h...   \n",
       "4  0000455dfa3e01eae3af  Can I convert montra helicon D to a mountain b...   \n",
       "\n",
       "   target  \n",
       "0       0  \n",
       "1       0  \n",
       "2       0  \n",
       "3       0  \n",
       "4       0  "
      ]
     },
     "execution_count": 4,
     "metadata": {},
     "output_type": "execute_result"
    }
   ],
   "source": [
    "train_df.head()"
   ]
  },
  {
   "cell_type": "code",
   "execution_count": 5,
   "id": "621ca89e",
   "metadata": {},
   "outputs": [],
   "source": [
    "train_df=train_df[['question_text','target']]"
   ]
  },
  {
   "cell_type": "code",
   "execution_count": 6,
   "id": "3862b8ab",
   "metadata": {},
   "outputs": [
    {
     "data": {
      "text/html": [
       "<div>\n",
       "<style scoped>\n",
       "    .dataframe tbody tr th:only-of-type {\n",
       "        vertical-align: middle;\n",
       "    }\n",
       "\n",
       "    .dataframe tbody tr th {\n",
       "        vertical-align: top;\n",
       "    }\n",
       "\n",
       "    .dataframe thead th {\n",
       "        text-align: right;\n",
       "    }\n",
       "</style>\n",
       "<table border=\"1\" class=\"dataframe\">\n",
       "  <thead>\n",
       "    <tr style=\"text-align: right;\">\n",
       "      <th></th>\n",
       "      <th>question_text</th>\n",
       "      <th>target</th>\n",
       "    </tr>\n",
       "  </thead>\n",
       "  <tbody>\n",
       "    <tr>\n",
       "      <th>0</th>\n",
       "      <td>How did Quebec nationalists see their province...</td>\n",
       "      <td>0</td>\n",
       "    </tr>\n",
       "    <tr>\n",
       "      <th>1</th>\n",
       "      <td>Do you have an adopted dog, how would you enco...</td>\n",
       "      <td>0</td>\n",
       "    </tr>\n",
       "    <tr>\n",
       "      <th>2</th>\n",
       "      <td>Why does velocity affect time? Does velocity a...</td>\n",
       "      <td>0</td>\n",
       "    </tr>\n",
       "    <tr>\n",
       "      <th>3</th>\n",
       "      <td>How did Otto von Guericke used the Magdeburg h...</td>\n",
       "      <td>0</td>\n",
       "    </tr>\n",
       "    <tr>\n",
       "      <th>4</th>\n",
       "      <td>Can I convert montra helicon D to a mountain b...</td>\n",
       "      <td>0</td>\n",
       "    </tr>\n",
       "    <tr>\n",
       "      <th>...</th>\n",
       "      <td>...</td>\n",
       "      <td>...</td>\n",
       "    </tr>\n",
       "    <tr>\n",
       "      <th>1306117</th>\n",
       "      <td>What other technical skills do you need as a c...</td>\n",
       "      <td>0</td>\n",
       "    </tr>\n",
       "    <tr>\n",
       "      <th>1306118</th>\n",
       "      <td>Does MS in ECE have good job prospects in USA ...</td>\n",
       "      <td>0</td>\n",
       "    </tr>\n",
       "    <tr>\n",
       "      <th>1306119</th>\n",
       "      <td>Is foam insulation toxic?</td>\n",
       "      <td>0</td>\n",
       "    </tr>\n",
       "    <tr>\n",
       "      <th>1306120</th>\n",
       "      <td>How can one start a research project based on ...</td>\n",
       "      <td>0</td>\n",
       "    </tr>\n",
       "    <tr>\n",
       "      <th>1306121</th>\n",
       "      <td>Who wins in a battle between a Wolverine and a...</td>\n",
       "      <td>0</td>\n",
       "    </tr>\n",
       "  </tbody>\n",
       "</table>\n",
       "<p>1306122 rows × 2 columns</p>\n",
       "</div>"
      ],
      "text/plain": [
       "                                             question_text  target\n",
       "0        How did Quebec nationalists see their province...       0\n",
       "1        Do you have an adopted dog, how would you enco...       0\n",
       "2        Why does velocity affect time? Does velocity a...       0\n",
       "3        How did Otto von Guericke used the Magdeburg h...       0\n",
       "4        Can I convert montra helicon D to a mountain b...       0\n",
       "...                                                    ...     ...\n",
       "1306117  What other technical skills do you need as a c...       0\n",
       "1306118  Does MS in ECE have good job prospects in USA ...       0\n",
       "1306119                          Is foam insulation toxic?       0\n",
       "1306120  How can one start a research project based on ...       0\n",
       "1306121  Who wins in a battle between a Wolverine and a...       0\n",
       "\n",
       "[1306122 rows x 2 columns]"
      ]
     },
     "execution_count": 6,
     "metadata": {},
     "output_type": "execute_result"
    }
   ],
   "source": [
    "train_df"
   ]
  },
  {
   "cell_type": "code",
   "execution_count": 7,
   "id": "6dd2c4a2",
   "metadata": {},
   "outputs": [
    {
     "data": {
      "text/plain": [
       "0    1225312\n",
       "1      80810\n",
       "Name: target, dtype: int64"
      ]
     },
     "execution_count": 7,
     "metadata": {},
     "output_type": "execute_result"
    }
   ],
   "source": [
    "train_df['target'].value_counts()"
   ]
  },
  {
   "cell_type": "code",
   "execution_count": 8,
   "id": "be147603",
   "metadata": {},
   "outputs": [
    {
     "data": {
      "text/plain": [
       "question_text  target\n",
       "False          False     1306122\n",
       "dtype: int64"
      ]
     },
     "execution_count": 8,
     "metadata": {},
     "output_type": "execute_result"
    }
   ],
   "source": [
    "train_df.isnull().value_counts()"
   ]
  },
  {
   "cell_type": "code",
   "execution_count": 9,
   "id": "fab34ff6",
   "metadata": {},
   "outputs": [
    {
     "data": {
      "text/plain": [
       "False    1306122\n",
       "Name: question_text, dtype: int64"
      ]
     },
     "execution_count": 9,
     "metadata": {},
     "output_type": "execute_result"
    }
   ],
   "source": [
    "train_df['question_text'].isnull().value_counts()"
   ]
  },
  {
   "cell_type": "code",
   "execution_count": 10,
   "id": "c770bf79",
   "metadata": {},
   "outputs": [
    {
     "data": {
      "text/plain": [
       "False    1306122\n",
       "Name: target, dtype: int64"
      ]
     },
     "execution_count": 10,
     "metadata": {},
     "output_type": "execute_result"
    }
   ],
   "source": [
    "train_df['target'].isnull().value_counts()"
   ]
  },
  {
   "cell_type": "code",
   "execution_count": 11,
   "id": "08e8f7eb",
   "metadata": {},
   "outputs": [],
   "source": [
    "colors = sns.color_palette('pastel')[0:2]"
   ]
  },
  {
   "cell_type": "code",
   "execution_count": 12,
   "id": "d5238d9e",
   "metadata": {},
   "outputs": [],
   "source": [
    "labels=['Sincere','insincere']"
   ]
  },
  {
   "cell_type": "code",
   "execution_count": 9,
   "id": "15e6d190",
   "metadata": {},
   "outputs": [
    {
     "data": {
      "text/plain": [
       "0    1225312\n",
       "1      80810\n",
       "Name: target, dtype: int64"
      ]
     },
     "execution_count": 9,
     "metadata": {},
     "output_type": "execute_result"
    }
   ],
   "source": [
    "train_df['target'].value_counts()"
   ]
  },
  {
   "cell_type": "markdown",
   "id": "dc570b38",
   "metadata": {},
   "source": [
    "###  There is no null values in the dataset"
   ]
  },
  {
   "cell_type": "code",
   "execution_count": 10,
   "id": "89475caa",
   "metadata": {},
   "outputs": [
    {
     "data": {
      "image/png": "[encoded data removed]",
      "text/plain": [
       "<Figure size 432x288 with 1 Axes>"
      ]
     },
     "metadata": {},
     "output_type": "display_data"
    }
   ],
   "source": [
    "# train_df.target.groupby(train_df.question_text).sum().plot(kind='pie')\n",
    "data = [1225312,80810]\n",
    "labels = ['Sincere', 'In-Sinecere']\n",
    "\n",
    "#define Seaborn color palette to use\n",
    "colors = sns.color_palette('pastel')[0:2]\n",
    "\n",
    "#create pie chart\n",
    "plt.pie(data, labels = labels, colors = colors, autopct='%.0f%%')\n",
    "plt.show()"
   ]
  },
  {
   "cell_type": "code",
   "execution_count": 13,
   "id": "0e0d491f",
   "metadata": {},
   "outputs": [],
   "source": [
    "##function to get verage word length\n",
    "def average_word_length(x):\n",
    "    words=x.split()\n",
    "    word_len=0\n",
    "    for word in words:\n",
    "        word_len+=len(word)\n",
    "    return word_len/len(words)"
   ]
  },
  {
   "cell_type": "code",
   "execution_count": 14,
   "id": "53cf2876",
   "metadata": {},
   "outputs": [],
   "source": [
    "def char_processing(x):\n",
    "    char_dic = {}\n",
    "    count=0\n",
    "    for i in x:\n",
    "        if ' ' == i:\n",
    "            continue\n",
    "        count += 1\n",
    "    return count\n"
   ]
  },
  {
   "cell_type": "code",
   "execution_count": 15,
   "id": "0c76dadd",
   "metadata": {},
   "outputs": [],
   "source": [
    "train_df['word_counts']=train_df['question_text'].apply(lambda x:len(str(x).split()))"
   ]
  },
  {
   "cell_type": "code",
   "execution_count": 16,
   "id": "860ffe8d",
   "metadata": {},
   "outputs": [],
   "source": [
    "train_df['char_counts']=train_df['question_text'].apply(lambda x:char_processing(x))"
   ]
  },
  {
   "cell_type": "code",
   "execution_count": 17,
   "id": "b722d750",
   "metadata": {},
   "outputs": [],
   "source": [
    "train_df['average_wordLen']=train_df['question_text'].apply(lambda x:average_word_length(x))"
   ]
  },
  {
   "cell_type": "code",
   "execution_count": 18,
   "id": "70be1aa4",
   "metadata": {},
   "outputs": [
    {
     "data": {
      "text/html": [
       "<div>\n",
       "<style scoped>\n",
       "    .dataframe tbody tr th:only-of-type {\n",
       "        vertical-align: middle;\n",
       "    }\n",
       "\n",
       "    .dataframe tbody tr th {\n",
       "        vertical-align: top;\n",
       "    }\n",
       "\n",
       "    .dataframe thead th {\n",
       "        text-align: right;\n",
       "    }\n",
       "</style>\n",
       "<table border=\"1\" class=\"dataframe\">\n",
       "  <thead>\n",
       "    <tr style=\"text-align: right;\">\n",
       "      <th></th>\n",
       "      <th>question_text</th>\n",
       "      <th>target</th>\n",
       "      <th>word_counts</th>\n",
       "      <th>char_counts</th>\n",
       "      <th>average_wordLen</th>\n",
       "    </tr>\n",
       "  </thead>\n",
       "  <tbody>\n",
       "    <tr>\n",
       "      <th>0</th>\n",
       "      <td>How did Quebec nationalists see their province...</td>\n",
       "      <td>0</td>\n",
       "      <td>13</td>\n",
       "      <td>60</td>\n",
       "      <td>4.615385</td>\n",
       "    </tr>\n",
       "    <tr>\n",
       "      <th>1</th>\n",
       "      <td>Do you have an adopted dog, how would you enco...</td>\n",
       "      <td>0</td>\n",
       "      <td>16</td>\n",
       "      <td>66</td>\n",
       "      <td>4.125000</td>\n",
       "    </tr>\n",
       "    <tr>\n",
       "      <th>2</th>\n",
       "      <td>Why does velocity affect time? Does velocity a...</td>\n",
       "      <td>0</td>\n",
       "      <td>10</td>\n",
       "      <td>58</td>\n",
       "      <td>5.800000</td>\n",
       "    </tr>\n",
       "    <tr>\n",
       "      <th>3</th>\n",
       "      <td>How did Otto von Guericke used the Magdeburg h...</td>\n",
       "      <td>0</td>\n",
       "      <td>9</td>\n",
       "      <td>49</td>\n",
       "      <td>5.444444</td>\n",
       "    </tr>\n",
       "    <tr>\n",
       "      <th>4</th>\n",
       "      <td>Can I convert montra helicon D to a mountain b...</td>\n",
       "      <td>0</td>\n",
       "      <td>15</td>\n",
       "      <td>63</td>\n",
       "      <td>4.200000</td>\n",
       "    </tr>\n",
       "  </tbody>\n",
       "</table>\n",
       "</div>"
      ],
      "text/plain": [
       "                                       question_text  target  word_counts  \\\n",
       "0  How did Quebec nationalists see their province...       0           13   \n",
       "1  Do you have an adopted dog, how would you enco...       0           16   \n",
       "2  Why does velocity affect time? Does velocity a...       0           10   \n",
       "3  How did Otto von Guericke used the Magdeburg h...       0            9   \n",
       "4  Can I convert montra helicon D to a mountain b...       0           15   \n",
       "\n",
       "   char_counts  average_wordLen  \n",
       "0           60         4.615385  \n",
       "1           66         4.125000  \n",
       "2           58         5.800000  \n",
       "3           49         5.444444  \n",
       "4           63         4.200000  "
      ]
     },
     "execution_count": 18,
     "metadata": {},
     "output_type": "execute_result"
    }
   ],
   "source": [
    "train_df.head()"
   ]
  },
  {
   "cell_type": "code",
   "execution_count": null,
   "id": "e7520bf0",
   "metadata": {},
   "outputs": [],
   "source": []
  },
  {
   "cell_type": "code",
   "execution_count": null,
   "id": "7d70e2ab",
   "metadata": {},
   "outputs": [],
   "source": []
  },
  {
   "cell_type": "code",
   "execution_count": 19,
   "id": "19110d1d",
   "metadata": {},
   "outputs": [],
   "source": [
    "labels=['Sincere','In-sincere']"
   ]
  },
  {
   "cell_type": "code",
   "execution_count": 20,
   "id": "1d0a8240",
   "metadata": {},
   "outputs": [
    {
     "data": {
      "image/png": "[encoded data removed]",
      "text/plain": [
       "<Figure size 432x288 with 1 Axes>"
      ]
     },
     "metadata": {
      "needs_background": "light"
     },
     "output_type": "display_data"
    }
   ],
   "source": [
    "ax = sns.barplot(x=\"target\", y=\"word_counts\", data=train_df)\n"
   ]
  },
  {
   "cell_type": "code",
   "execution_count": 98,
   "id": "f569fe37",
   "metadata": {},
   "outputs": [
    {
     "data": {
      "text/plain": [
       "'Where can I throw a party in Lonavala?'"
      ]
     },
     "execution_count": 98,
     "metadata": {},
     "output_type": "execute_result"
    }
   ],
   "source": []
  },
  {
   "cell_type": "code",
   "execution_count": 99,
   "id": "9726ebd8",
   "metadata": {},
   "outputs": [],
   "source": [
    "##Coverting the text in lower case "
   ]
  },
  {
   "cell_type": "code",
   "execution_count": 21,
   "id": "6aec7d68",
   "metadata": {},
   "outputs": [],
   "source": [
    "train_df['question_text']=train_df['question_text'].apply(lambda x:x.lower())"
   ]
  },
  {
   "cell_type": "code",
   "execution_count": 110,
   "id": "8a295f54",
   "metadata": {},
   "outputs": [],
   "source": [
    "## WE will check for contractions and replace it with proper words"
   ]
  },
  {
   "cell_type": "code",
   "execution_count": 22,
   "id": "7ac99dc5",
   "metadata": {},
   "outputs": [],
   "source": [
    "def contration_to_exp(x):\n",
    "    if type(x) is str:\n",
    "        for key in contractions:\n",
    "            value=contractions[key]\n",
    "            x=x.replace(key,value)\n",
    "        return x\n",
    "    else:\n",
    "        return x\n",
    "    \n",
    "    "
   ]
  },
  {
   "cell_type": "code",
   "execution_count": null,
   "id": "a6a539ea",
   "metadata": {},
   "outputs": [],
   "source": []
  },
  {
   "cell_type": "code",
   "execution_count": 23,
   "id": "fe3d65e1",
   "metadata": {},
   "outputs": [],
   "source": [
    "train_df['question_text']=train_df['question_text'].apply(lambda x:contration_to_exp(x))"
   ]
  },
  {
   "cell_type": "code",
   "execution_count": 120,
   "id": "761380a1",
   "metadata": {},
   "outputs": [],
   "source": [
    "# train_df['question_text'].head(50)"
   ]
  },
  {
   "cell_type": "code",
   "execution_count": 24,
   "id": "03e33d08",
   "metadata": {},
   "outputs": [],
   "source": [
    "wordnet_lemmatizer = WordNetLemmatizer()"
   ]
  },
  {
   "cell_type": "code",
   "execution_count": 25,
   "id": "b2141886",
   "metadata": {},
   "outputs": [],
   "source": [
    " def preprocess(sentence):\n",
    "    sentence=str(sentence)\n",
    "    sentence = sentence.lower()\n",
    "    sentence=sentence.replace('{html}',\"\") \n",
    "    cleanr = re.compile('<.*?>')\n",
    "    cleantext = re.sub(cleanr, '', sentence)\n",
    "    rem_url=re.sub(r'http\\S+', '',cleantext)\n",
    "    rem_num = re.sub('[0-9]+', '', rem_url)\n",
    "    tokenizer = RegexpTokenizer(r'\\w+')\n",
    "    tokens = tokenizer.tokenize(rem_num)  \n",
    "    filtered_words = [w for w in tokens if len(w) > 2 if not w in stopwords.words('english')]\n",
    "    lemma_words=[wordnet_lemmatizer.lemmatize(w) for w in filtered_words]\n",
    "    return \" \".join(filtered_words)\n"
   ]
  },
  {
   "cell_type": "code",
   "execution_count": 32,
   "id": "6417309c",
   "metadata": {},
   "outputs": [],
   "source": [
    "train_df['question_text']=train_df['question_text'].apply(lambda x:re.sub('[^A-Z a-z 0-9-]+','',x))\n",
    "train_df['question_text']=train_df['question_text'].apply(lambda x:\" \".join(x.split()))"
   ]
  },
  {
   "cell_type": "code",
   "execution_count": 65,
   "id": "c89e53b0",
   "metadata": {},
   "outputs": [],
   "source": [
    "train_df['question_text']=train_df['question_text'].apply(lambda x:\" \".join(x.split()))"
   ]
  },
  {
   "cell_type": "markdown",
   "id": "5fd78472",
   "metadata": {},
   "source": [
    "Remove accented characters"
   ]
  },
  {
   "cell_type": "code",
   "execution_count": 35,
   "id": "00d8214c",
   "metadata": {},
   "outputs": [],
   "source": [
    "import unicodedata"
   ]
  },
  {
   "cell_type": "code",
   "execution_count": 33,
   "id": "d3c9dad6",
   "metadata": {},
   "outputs": [],
   "source": [
    "def remove_accented_characters(x):\n",
    "    x=unicodedata.normalize('NFKD',x).encode('ascii','ignore').decode('utf-8','ignore')\n",
    "    return x"
   ]
  },
  {
   "cell_type": "raw",
   "id": "29f87783",
   "metadata": {},
   "source": []
  },
  {
   "cell_type": "code",
   "execution_count": 57,
   "id": "e6c4952f",
   "metadata": {},
   "outputs": [],
   "source": [
    "lemmatizer = WordNetLemmatizer()  "
   ]
  },
  {
   "cell_type": "code",
   "execution_count": 50,
   "id": "bedf0f00",
   "metadata": {},
   "outputs": [],
   "source": [
    "stop_words = set(stopwords.words('english'))"
   ]
  },
  {
   "cell_type": "code",
   "execution_count": 36,
   "id": "7f5f7820",
   "metadata": {},
   "outputs": [],
   "source": [
    "train_df['question_text']=train_df['question_text'].apply(lambda x:remove_accented_characters(x))"
   ]
  },
  {
   "cell_type": "code",
   "execution_count": 48,
   "id": "3fadfa65",
   "metadata": {},
   "outputs": [],
   "source": [
    "train_df['question_text']=train_df['question_text'].apply(lambda x:\" \".join([t for t in x.split() if t not in stop_words]))"
   ]
  },
  {
   "cell_type": "code",
   "execution_count": 58,
   "id": "1a597c98",
   "metadata": {},
   "outputs": [],
   "source": [
    "def lemmatizeSentence(x):\n",
    "    token_words=word_tokenize(x) \n",
    "    lemma_sentence=[]\n",
    "    for word in token_words:\n",
    "        lemma_sentence.append(lemmatizer.lemmatize(word))\n",
    "        lemma_sentence.append(\" \")\n",
    "    return \"\".join(lemma_sentence)"
   ]
  },
  {
   "cell_type": "code",
   "execution_count": 61,
   "id": "0c1d8ba3",
   "metadata": {},
   "outputs": [],
   "source": [
    "train_df['question_text']=train_df['question_text'].apply(lambda x: lemmatizeSentence(x))"
   ]
  },
  {
   "cell_type": "code",
   "execution_count": 68,
   "id": "7307502a",
   "metadata": {},
   "outputs": [
    {
     "data": {
      "text/plain": [
       "'convert montra helicon mountain bike changing tyre'"
      ]
     },
     "execution_count": 68,
     "metadata": {},
     "output_type": "execute_result"
    }
   ],
   "source": [
    "train_df['question_text'][4]"
   ]
  },
  {
   "cell_type": "code",
   "execution_count": null,
   "id": "d0aed72c",
   "metadata": {},
   "outputs": [],
   "source": [
    "train_df['question_text']=train_df['question_text'].apply(lambda x:\" \".join(x.split()))"
   ]
  },
  {
   "cell_type": "code",
   "execution_count": 69,
   "id": "fa60f817",
   "metadata": {},
   "outputs": [],
   "source": [
    "text=' '.join(train_df['question_text'])"
   ]
  },
  {
   "cell_type": "code",
   "execution_count": 71,
   "id": "df09be65",
   "metadata": {},
   "outputs": [],
   "source": [
    "text=text.split()"
   ]
  },
  {
   "cell_type": "code",
   "execution_count": 96,
   "id": "72c94d9f",
   "metadata": {},
   "outputs": [],
   "source": [
    "freq_comm=pd.Series(text).value_counts()"
   ]
  },
  {
   "cell_type": "code",
   "execution_count": null,
   "id": "2d5e7ec4",
   "metadata": {},
   "outputs": [],
   "source": []
  },
  {
   "cell_type": "code",
   "execution_count": null,
   "id": "fde53153",
   "metadata": {},
   "outputs": [],
   "source": []
  },
  {
   "cell_type": "code",
   "execution_count": 97,
   "id": "74263b43",
   "metadata": {},
   "outputs": [
    {
     "data": {
      "text/plain": [
       "get             64757\n",
       "would           63097\n",
       "best            62318\n",
       "people          56667\n",
       "like            50563\n",
       "                ...  \n",
       "robina              1\n",
       "dubois              1\n",
       "pythagoreans        1\n",
       "dateof              1\n",
       "convex-hull         1\n",
       "Length: 238589, dtype: int64"
      ]
     },
     "execution_count": 97,
     "metadata": {},
     "output_type": "execute_result"
    }
   ],
   "source": [
    "freq_comm"
   ]
  },
  {
   "cell_type": "code",
   "execution_count": 101,
   "id": "c898434e",
   "metadata": {},
   "outputs": [],
   "source": [
    "frequent_20=freq_comm[:20]"
   ]
  },
  {
   "cell_type": "code",
   "execution_count": null,
   "id": "f7141f35",
   "metadata": {},
   "outputs": [],
   "source": []
  },
  {
   "cell_type": "code",
   "execution_count": null,
   "id": "21203389",
   "metadata": {},
   "outputs": [],
   "source": []
  },
  {
   "cell_type": "code",
   "execution_count": 116,
   "id": "b87eec51",
   "metadata": {},
   "outputs": [],
   "source": [
    "frequent_characters=list(frequent_20.keys())"
   ]
  },
  {
   "cell_type": "code",
   "execution_count": 123,
   "id": "b50394b7",
   "metadata": {},
   "outputs": [],
   "source": [
    "frequent_characters.remove('good')\n"
   ]
  },
  {
   "cell_type": "code",
   "execution_count": 121,
   "id": "884439ca",
   "metadata": {},
   "outputs": [],
   "source": [
    "frequent_characters.remove('best')\n",
    "frequent_characters.remove('like')"
   ]
  },
  {
   "cell_type": "code",
   "execution_count": 122,
   "id": "d20fa405",
   "metadata": {},
   "outputs": [
    {
     "data": {
      "text/plain": [
       "['get',\n",
       " 'would',\n",
       " 'people',\n",
       " 'one',\n",
       " 'make',\n",
       " 'india',\n",
       " 'year',\n",
       " 'way',\n",
       " 'time',\n",
       " 'think',\n",
       " 'many',\n",
       " 'life',\n",
       " 'u',\n",
       " 'much',\n",
       " 'someone',\n",
       " 'use',\n",
       " 'want']"
      ]
     },
     "execution_count": 122,
     "metadata": {},
     "output_type": "execute_result"
    }
   ],
   "source": [
    "frequent_characters"
   ]
  },
  {
   "cell_type": "code",
   "execution_count": 124,
   "id": "d4884b37",
   "metadata": {},
   "outputs": [],
   "source": [
    "train_df['question_text']=train_df['question_text'].apply(lambda x:\" \".join([t for t in x.split() if t not in frequent_characters]))"
   ]
  },
  {
   "cell_type": "code",
   "execution_count": 130,
   "id": "22999071",
   "metadata": {},
   "outputs": [],
   "source": [
    "rare_20=freq_comm[-20:]"
   ]
  },
  {
   "cell_type": "code",
   "execution_count": 132,
   "id": "c3909459",
   "metadata": {},
   "outputs": [],
   "source": [
    "##Word Cloud Visulization "
   ]
  },
  {
   "cell_type": "code",
   "execution_count": 133,
   "id": "0e812b05",
   "metadata": {},
   "outputs": [],
   "source": [
    "from wordcloud import WordCloud\n",
    "import matplotlib.pyplot  as plt\n",
    "%matplotlib inline"
   ]
  },
  {
   "cell_type": "code",
   "execution_count": 135,
   "id": "4fc09710",
   "metadata": {},
   "outputs": [],
   "source": [
    "x=' '.join(text[:20000])"
   ]
  },
  {
   "cell_type": "code",
   "execution_count": 140,
   "id": "b020e35c",
   "metadata": {},
   "outputs": [
    {
     "data": {
      "image/png": "[encoded data removed]",
      "text/plain": [
       "<Figure size 432x288 with 1 Axes>"
      ]
     },
     "metadata": {
      "needs_background": "light"
     },
     "output_type": "display_data"
    }
   ],
   "source": [
    "wc=WordCloud(width=1000,height=1000).generate(x)\n",
    "plt.imshow(wc)\n",
    "plt.axis('off')\n",
    "plt.show()"
   ]
  },
  {
   "cell_type": "code",
   "execution_count": null,
   "id": "7076f3b0",
   "metadata": {},
   "outputs": [],
   "source": []
  }
 ],
 "metadata": {
  "kernelspec": {
   "display_name": "Python 3",
   "language": "python",
   "name": "python3"
  },
  "language_info": {
   "codemirror_mode": {
    "name": "ipython",
    "version": 3
   },
   "file_extension": ".py",
   "mimetype": "text/x-python",
   "name": "python",
   "nbconvert_exporter": "python",
   "pygments_lexer": "ipython3",
   "version": "3.8.8"
  }
 },
 "nbformat": 4,
 "nbformat_minor": 5
}
